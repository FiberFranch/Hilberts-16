{
 "cells": [
  {
   "cell_type": "code",
   "execution_count": 1,
   "id": "9480fcd4",
   "metadata": {},
   "outputs": [],
   "source": [
    "using Pkg\n",
    "#Pkg.add(\"DifferentialEquations\")\n",
    "#Pkg.add(\"PyPlot\")\n",
    "#Pkg.add(\"Plots\")\n",
    "using Plots\n",
    "gr()\n",
    "using DifferentialEquations"
   ]
  },
  {
   "cell_type": "code",
   "execution_count": 2,
   "id": "c30408ef",
   "metadata": {},
   "outputs": [
    {
     "data": {
      "text/plain": [
       "odefcn (generic function with 1 method)"
      ]
     },
     "execution_count": 2,
     "metadata": {},
     "output_type": "execute_result"
    }
   ],
   "source": [
    "function odefcn(z)\n",
    "    return [z[2], -z[1]]\n",
    "end"
   ]
  },
  {
   "cell_type": "code",
   "execution_count": 3,
   "id": "7a9465e3",
   "metadata": {},
   "outputs": [
    {
     "data": {
      "text/plain": [
       "RK4lin (generic function with 1 method)"
      ]
     },
     "execution_count": 3,
     "metadata": {},
     "output_type": "execute_result"
    }
   ],
   "source": [
    "function RK4lin(z0, h)\n",
    "    xprev = z0[1];\n",
    "    yprev = z0[2];\n",
    "    \n",
    "    k1 = odefcn([xprev, yprev]);\n",
    "    k2 = odefcn([xprev + k1[1] * h/2, yprev + k1[2] * h/2]);\n",
    "    k3 = odefcn([xprev + k2[1] * h/2, yprev + k2[2] * h/2]);\n",
    "    k4 = odefcn([xprev + k3[1] * h  , yprev + k3[2] * h  ]);\n",
    "    \n",
    "    x = xprev + (h/6) * (k1[1] + 2*k2[1] + 2*k3[1] + k4[1]);\n",
    "    y = yprev + (h/6) * (k1[2] + 2*k2[2] + 2*k3[2] + k4[2]);\n",
    "    \n",
    "    count = 0;\n",
    "    \n",
    "    while count < 2\n",
    "        \n",
    "        xprev = x;\n",
    "        yprev = y;\n",
    "        \n",
    "        k1 = odefcn([xprev, yprev]);\n",
    "        k2 = odefcn([xprev + k1[1] * h/2, yprev + k1[2] * h/2]);\n",
    "        k3 = odefcn([xprev + k2[1] * h/2, yprev + k2[2] * h/2]);\n",
    "        k4 = odefcn([xprev + k3[1] * h  , yprev + k3[2] * h  ]);\n",
    "    \n",
    "        x = xprev + (h/6) * (k1[1] + 2*k2[1] + 2*k3[1] + k4[1]);\n",
    "        y = yprev + (h/6) * (k1[2] + 2*k2[2] + 2*k3[2] + k4[2]);\n",
    "        \n",
    "        if y*yprev < 0\n",
    "            count = count+1;\n",
    "        end\n",
    "        \n",
    "    end\n",
    "    \n",
    "    xzero = xprev - yprev*(x-xprev)/(y-yprev);\n",
    "    \n",
    "    return xzero\n",
    "    \n",
    "end"
   ]
  },
  {
   "cell_type": "code",
   "execution_count": null,
   "id": "8edd10b7",
   "metadata": {},
   "outputs": [],
   "source": [
    "h = 1;\n",
    "z0 = [10.0 0.0];\n",
    "dtlin = Float64[];\n",
    "dxlin = Float64[];\n",
    "for i in 1:9\n",
    "    push!(dtlin,h);\n",
    "    push!(dxlin,abs(10-RK4lin(z0, h)));\n",
    "    h = h/10;\n",
    "    println(h);\n",
    "end"
   ]
  },
  {
   "cell_type": "code",
   "execution_count": null,
   "id": "e4091fb9",
   "metadata": {},
   "outputs": [],
   "source": []
  }
 ],
 "metadata": {
  "kernelspec": {
   "display_name": "Julia 1.7.2",
   "language": "julia",
   "name": "julia-1.7"
  },
  "language_info": {
   "file_extension": ".jl",
   "mimetype": "application/julia",
   "name": "julia",
   "version": "1.7.2"
  }
 },
 "nbformat": 4,
 "nbformat_minor": 5
}
