{
 "cells": [
  {
   "cell_type": "code",
   "execution_count": 1,
   "id": "a5b7fb6c",
   "metadata": {},
   "outputs": [],
   "source": [
    "using Pkg\n",
    "#Pkg.add(\"DifferentialEquations\")\n",
    "#Pkg.add(\"PyPlot\")\n",
    "#Pkg.add(\"Plots\")\n",
    "using Plots\n",
    "gr()\n",
    "using DifferentialEquations"
   ]
  },
  {
   "cell_type": "code",
   "execution_count": 2,
   "id": "822c148c",
   "metadata": {},
   "outputs": [
    {
     "data": {
      "text/plain": [
       "odefcn (generic function with 1 method)"
      ]
     },
     "execution_count": 2,
     "metadata": {},
     "output_type": "execute_result"
    }
   ],
   "source": [
    "function odefcn(z)\n",
    "    return [  z[1]^2 +   z[1]*z[2] +                       z[2],\n",
    "            a*z[1]^2 + b*z[1]*z[2] + c*z[2]^2 + d*z[1] + e*z[2]]\n",
    "end"
   ]
  },
  {
   "cell_type": "code",
   "execution_count": 6,
   "id": "c6634ff1",
   "metadata": {},
   "outputs": [
    {
     "data": {
      "text/plain": [
       "RK4 (generic function with 1 method)"
      ]
     },
     "execution_count": 6,
     "metadata": {},
     "output_type": "execute_result"
    }
   ],
   "source": [
    "function RK4(z0, h)\n",
    "    xprev = z0[1];\n",
    "    yprev = z0[2];\n",
    "    \n",
    "    k1 = odefcn([xprev, yprev]);\n",
    "    k2 = odefcn([xprev + k1[1] * h/2, yprev + k1[2] * h/2]);\n",
    "    k3 = odefcn([xprev + k2[1] * h/2, yprev + k2[2] * h/2]);\n",
    "    k4 = odefcn([xprev + k3[1] * h  , yprev + k3[2] * h  ]);\n",
    "    \n",
    "    x = xprev + (h/6) * (k1[1] + 2*k2[1] + 2*k3[1] + k4[1]);\n",
    "    y = yprev + (h/6) * (k1[2] + 2*k2[2] + 2*k3[2] + k4[2]);\n",
    "    \n",
    "    count = 0\n",
    "    \n",
    "    while count < 2\n",
    "        \n",
    "        xprev = x;\n",
    "        yprev = y;\n",
    "        \n",
    "        k1 = odefcn([xprev, yprev]);\n",
    "        k2 = odefcn([xprev + k1[1] * h/2, yprev + k1[2] * h/2]);\n",
    "        k3 = odefcn([xprev + k2[1] * h/2, yprev + k2[2] * h/2]);\n",
    "        k4 = odefcn([xprev + k3[1] * h  , yprev + k3[2] * h  ]);\n",
    "    \n",
    "        x = xprev + (h/6) * (k1[1] + 2*k2[1] + 2*k3[1] + k4[1]);\n",
    "        y = yprev + (h/6) * (k1[2] + 2*k2[2] + 2*k3[2] + k4[2]);\n",
    "        \n",
    "        if y*yprev < 0\n",
    "            count = count+1;\n",
    "        end\n",
    "        \n",
    "    end\n",
    "    \n",
    "    xzero = xprev - yprev*(x-xprev)/(y-yprev);\n",
    "    \n",
    "    return xzero\n",
    "    \n",
    "end"
   ]
  },
  {
   "cell_type": "code",
   "execution_count": 4,
   "id": "51b2c210",
   "metadata": {},
   "outputs": [],
   "source": [
    "a=-10;\n",
    "b=2.2;\n",
    "c=0.7;\n",
    "d=-72-7/9;\n",
    "e=0.0015;"
   ]
  },
  {
   "cell_type": "code",
   "execution_count": 7,
   "id": "649c2fd0",
   "metadata": {},
   "outputs": [
    {
     "name": "stdout",
     "output_type": "stream",
     "text": [
      "0.9978608895541815"
     ]
    }
   ],
   "source": [
    "h = 0.01;\n",
    "z0 = [1.0 0.0];\n",
    "xfin = RK4(z0, h)\n",
    "print(xfin)"
   ]
  },
  {
   "cell_type": "code",
   "execution_count": null,
   "id": "585ea11e",
   "metadata": {},
   "outputs": [],
   "source": [
    "#plot(x, differences, xaxis=\"x(t=0)\", yaxis=\"x(t=T)-x(t=0)\", label=\"\")"
   ]
  }
 ],
 "metadata": {
  "kernelspec": {
   "display_name": "Julia 1.7.2",
   "language": "julia",
   "name": "julia-1.7"
  },
  "language_info": {
   "file_extension": ".jl",
   "mimetype": "application/julia",
   "name": "julia",
   "version": "1.7.2"
  }
 },
 "nbformat": 4,
 "nbformat_minor": 5
}
