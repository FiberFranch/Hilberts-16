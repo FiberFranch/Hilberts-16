{
 "cells": [
  {
   "cell_type": "code",
   "execution_count": 1,
   "id": "572f3590",
   "metadata": {},
   "outputs": [
    {
     "name": "stdout",
     "output_type": "stream",
     "text": [
      "CUDA toolkit 11.7, artifact installation\n",
      "Unknown NVIDIA driver, for CUDA 11.6\n",
      "CUDA driver 11.6\n",
      "\n",
      "Libraries: \n",
      "- CUBLAS: 11.10.1\n",
      "- CURAND: 10.2.10\n",
      "- CUFFT: 10.7.1\n",
      "- CUSOLVER: 11.3.5\n",
      "- CUSPARSE: 11.7.3\n",
      "- CUPTI: 17.0.0\n",
      "- NVML: missing\n",
      "- CUDNN: 8.30.2 (for CUDA 11.5.0)\n",
      "- CUTENSOR: 1.4.0 (for CUDA 11.5.0)\n",
      "\n",
      "Toolchain:\n",
      "- Julia: 1.7.2\n",
      "- LLVM: 12.0.1\n",
      "- PTX ISA support: 3.2, 4.0, 4.1, 4.2, 4.3, 5.0, 6.0, 6.1, 6.3, 6.4, 6.5, 7.0\n",
      "- Device capability support: sm_35, sm_37, sm_50, sm_52, sm_53, sm_60, sm_61, sm_62, sm_70, sm_72, sm_75, sm_80\n",
      "\n",
      "1 device:\n",
      "  0: NVIDIA GeForce GTX 1070 (sm_61, 7.074 GiB / 8.000 GiB available)\n"
     ]
    }
   ],
   "source": [
    "using CUDA\n",
    "CUDA.versioninfo()"
   ]
  },
  {
   "cell_type": "code",
   "execution_count": 2,
   "id": "09bc1cab",
   "metadata": {},
   "outputs": [
    {
     "data": {
      "text/plain": [
       "RK4 (generic function with 1 method)"
      ]
     },
     "execution_count": 2,
     "metadata": {},
     "output_type": "execute_result"
    }
   ],
   "source": [
    "function RK4(z0, h)\n",
    "    xprev = z0[1];\n",
    "    yprev = z0[2];\n",
    "    \n",
    "    k1 = odefcn([xprev, yprev]);\n",
    "    k2 = odefcn([xprev + k1[1] * h/2, yprev + k1[2] * h/2]);\n",
    "    k3 = odefcn([xprev + k2[1] * h/2, yprev + k2[2] * h/2]);\n",
    "    k4 = odefcn([xprev + k3[1] * h  , yprev + k3[2] * h  ]);\n",
    "    \n",
    "    x = xprev + (h/6) * (k1[1] + 2*k2[1] + 2*k3[1] + k4[1]);\n",
    "    y = yprev + (h/6) * (k1[2] + 2*k2[2] + 2*k3[2] + k4[2]);\n",
    "    \n",
    "    count = 0\n",
    "    \n",
    "    while count < 2\n",
    "        \n",
    "        xprev = x;\n",
    "        yprev = y;\n",
    "        \n",
    "        k1 = odefcn([xprev, yprev]);\n",
    "        k2 = odefcn([xprev + k1[1] * h/2, yprev + k1[2] * h/2]);\n",
    "        k3 = odefcn([xprev + k2[1] * h/2, yprev + k2[2] * h/2]);\n",
    "        k4 = odefcn([xprev + k3[1] * h  , yprev + k3[2] * h  ]);\n",
    "    \n",
    "        x = xprev + (h/6) * (k1[1] + 2*k2[1] + 2*k3[1] + k4[1]);\n",
    "        y = yprev + (h/6) * (k1[2] + 2*k2[2] + 2*k3[2] + k4[2]);\n",
    "        \n",
    "        if y*yprev < 0\n",
    "            count = count+1;\n",
    "        end\n",
    "        \n",
    "    end\n",
    "    \n",
    "    xzero = xprev - yprev*(x-xprev)/(y-yprev);\n",
    "    \n",
    "    return xzero\n",
    "    \n",
    "end"
   ]
  },
  {
   "cell_type": "code",
   "execution_count": 3,
   "id": "9ac1e8c8",
   "metadata": {},
   "outputs": [
    {
     "data": {
      "text/plain": [
       "RK4loop (generic function with 1 method)"
      ]
     },
     "execution_count": 3,
     "metadata": {},
     "output_type": "execute_result"
    }
   ],
   "source": [
    "function RK4loop(x, diff, h)\n",
    "    for i = 1:length(x)\n",
    "        z0 = [x[i] 0];\n",
    "        @inbounds diff[i] = RK4(z0, h)\n",
    "    end\n",
    "    return diff\n",
    "end"
   ]
  },
  {
   "cell_type": "code",
   "execution_count": 6,
   "id": "3aef997a",
   "metadata": {},
   "outputs": [
    {
     "data": {
      "text/plain": [
       "1048576-element CuArray{Float32, 1, CUDA.Mem.DeviceBuffer}:\n",
       " 2.0\n",
       " 2.0\n",
       " 2.0\n",
       " 2.0\n",
       " 2.0\n",
       " 2.0\n",
       " 2.0\n",
       " 2.0\n",
       " 2.0\n",
       " 2.0\n",
       " 2.0\n",
       " 2.0\n",
       " 2.0\n",
       " ⋮\n",
       " 2.0\n",
       " 2.0\n",
       " 2.0\n",
       " 2.0\n",
       " 2.0\n",
       " 2.0\n",
       " 2.0\n",
       " 2.0\n",
       " 2.0\n",
       " 2.0\n",
       " 2.0\n",
       " 2.0"
      ]
     },
     "execution_count": 6,
     "metadata": {},
     "output_type": "execute_result"
    }
   ],
   "source": [
    "N = 2^20\n",
    "x_d = CUDA.fill(1.0f0, N)\n",
    "y_d = CUDA.fill(2.0f0, N)"
   ]
  },
  {
   "cell_type": "code",
   "execution_count": 7,
   "id": "8723aba5",
   "metadata": {},
   "outputs": [
    {
     "data": {
      "text/plain": [
       "\u001b[32m\u001b[1mTest Passed\u001b[22m\u001b[39m\n",
       "  Expression: all(Array(y_d) .== 3.0f0)"
      ]
     },
     "execution_count": 7,
     "metadata": {},
     "output_type": "execute_result"
    }
   ],
   "source": [
    "function gpu_add1!(y, x)\n",
    "    for i = 1:length(y)\n",
    "        @inbounds y[i] += x[i]\n",
    "    end\n",
    "    return nothing\n",
    "end\n",
    "\n",
    "fill!(y_d, 2)\n",
    "@cuda gpu_add1!(y_d, x_d)\n",
    "using Test\n",
    "@test all(Array(y_d) .== 3.0f0)"
   ]
  },
  {
   "cell_type": "code",
   "execution_count": 9,
   "id": "5b800366",
   "metadata": {},
   "outputs": [
    {
     "data": {
      "text/plain": [
       "bench_gpu1! (generic function with 1 method)"
      ]
     },
     "execution_count": 9,
     "metadata": {},
     "output_type": "execute_result"
    }
   ],
   "source": [
    "function bench_gpu1!(y, x)\n",
    "    CUDA.@sync begin\n",
    "        @cuda gpu_add1!(y, x)\n",
    "    end\n",
    "end"
   ]
  },
  {
   "cell_type": "code",
   "execution_count": 10,
   "id": "5c4c51c4",
   "metadata": {},
   "outputs": [
    {
     "name": "stdout",
     "output_type": "stream",
     "text": [
      "  141.953 ms (52 allocations: 3.58 KiB)\n"
     ]
    },
    {
     "data": {
      "text/plain": [
       "CUDA.HostKernel{typeof(gpu_add1!), Tuple{CuDeviceVector{Float32, 1}, CuDeviceVector{Float32, 1}}}(gpu_add1!, CuFunction(Ptr{Nothing} @0x000000007f061290, CuModule(Ptr{Nothing} @0x000000007ef6d3b0, CuContext(0x000000007d3e50e0, instance bd0865608a9b1c07))), CUDA.KernelState(Ptr{Nothing} @0x0000000603e00000))"
      ]
     },
     "execution_count": 10,
     "metadata": {},
     "output_type": "execute_result"
    }
   ],
   "source": [
    "using BenchmarkTools\n",
    "@btime bench_gpu1!($y_d, $x_d)"
   ]
  },
  {
   "cell_type": "code",
   "execution_count": 13,
   "id": "7a9fbc36",
   "metadata": {},
   "outputs": [
    {
     "ename": "LoadError",
     "evalue": "syntax: invalid operator \"--\"",
     "output_type": "error",
     "traceback": [
      "syntax: invalid operator \"--\"",
      "",
      "Stacktrace:",
      " [1] top-level scope",
      "   @ In[13]:1",
      " [2] eval",
      "   @ .\\boot.jl:373 [inlined]",
      " [3] include_string(mapexpr::typeof(REPL.softscope), mod::Module, code::String, filename::String)",
      "   @ Base .\\loading.jl:1196"
     ]
    }
   ],
   "source": [
    "$ nvprof --profile-from-start off "
   ]
  }
 ],
 "metadata": {
  "celltoolbar": "Raw Cell Format",
  "kernelspec": {
   "display_name": "Julia 1.7.2",
   "language": "julia",
   "name": "julia-1.7"
  },
  "language_info": {
   "file_extension": ".jl",
   "mimetype": "application/julia",
   "name": "julia",
   "version": "1.7.2"
  }
 },
 "nbformat": 4,
 "nbformat_minor": 5
}
